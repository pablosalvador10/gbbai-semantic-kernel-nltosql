{
 "cells": [
  {
   "cell_type": "code",
   "execution_count": 10,
   "metadata": {},
   "outputs": [
    {
     "name": "stdout",
     "output_type": "stream",
     "text": [
      "Directory changed to C:\\Users\\pablosal\\Desktop\\gbbai-semantic-kernel-nltosql\n"
     ]
    }
   ],
   "source": [
    "import os\n",
    "\n",
    "# Define the target directory (change yours)\n",
    "target_directory = r\"C:\\Users\\pablosal\\Desktop\\gbbai-semantic-kernel-nltosql\"\n",
    "\n",
    "# Check if the directory exists\n",
    "if os.path.exists(target_directory):\n",
    "    # Change the current working directory\n",
    "    os.chdir(target_directory)\n",
    "    print(f\"Directory changed to {os.getcwd()}\")\n",
    "else:\n",
    "    print(f\"Directory {target_directory} does not exist.\")"
   ]
  },
  {
   "cell_type": "code",
   "execution_count": 11,
   "metadata": {},
   "outputs": [],
   "source": [
    "from dotenv import load_dotenv\n",
    "import os\n",
    "import asyncio\n",
    "import semantic_kernel as sk\n",
    "from semantic_kernel.connectors.ai.open_ai import AzureChatCompletion\n",
    "from plugins.QueryDb import queryDb as plugin\n",
    "\n",
    "kernel = sk.Kernel()\n",
    "\n",
    "# Get AOAI settings from .env\n",
    "deployment, api_key, endpoint = sk.azure_openai_settings_from_dot_env()"
   ]
  },
  {
   "cell_type": "code",
   "execution_count": 12,
   "metadata": {},
   "outputs": [
    {
     "data": {
      "text/plain": [
       "KernelPlugin(name='QueryDbPlugin', description=None, functions={'query_db': KernelFunction(plugin_name='QueryDbPlugin', description='Query a database using a SQL query', name='query_db', is_semantic=False, stream_function=<bound method QueryDbPlugin.query_db of <plugins.QueryDb.queryDb.QueryDbPlugin object at 0x0000029AE4DCBE50>>, parameters=[ParameterView(name='input', description='SQL Query to be executed', default_value='', type_='string', required=False)], delegate_type=<DelegateTypes.InKernelContextOutString: 5>, function=<bound method QueryDbPlugin.query_db of <plugins.QueryDb.queryDb.QueryDbPlugin object at 0x0000029AE4DCBE50>>, plugins=KernelPluginCollection(plugins={'nlpToSqlPlugin': KernelPlugin(name='nlpToSqlPlugin', description=None, functions={'ConvertNLPToSQL': KernelFunction(plugin_name='nlpToSqlPlugin', description='Given a query and a list of possible intents, detect which intent the input matches', name='ConvertNLPToSQL', is_semantic=True, stream_function=<function KernelFunction.from_semantic_config.<locals>._local_stream_func at 0x0000029AE4DFC5E0>, parameters=[ParameterView(name='input', description=\"The user's request\", default_value='', type_=None, required=False), ParameterView(name='chat_history', description='The chat history', default_value='', type_=None, required=False)], delegate_type=<DelegateTypes.ContextSwitchInKernelContextOutTaskKernelContext: 7>, function=<function KernelFunction.from_semantic_config.<locals>._local_func at 0x0000029AE4DFC430>, plugins=KernelPluginCollection(plugins={...}), ai_service=AzureChatCompletion(ai_model_id='chat-with-database', client=<openai.lib.azure.AsyncAzureOpenAI object at 0x0000029AE4DCB9D0>, ai_model_type=<OpenAIModelTypes.CHAT: 'chat'>, prompt_tokens=0, completion_tokens=0, total_tokens=0), prompt_execution_settings=AzureChatPromptExecutionSettings(service_id='chat-gpt', extension_data={'max_tokens': 100, 'temperature': 0.1, 'top_p': 1.0, 'presence_penalty': 0.0, 'frequency_penalty': 0.0}, ai_model_id=None, frequency_penalty=0.0, logit_bias={}, max_tokens=100, number_of_responses=1, presence_penalty=0.0, seed=None, stop=None, stream=False, temperature=0.1, top_p=1.0, user=None, response_format=None, tools=None, tool_choice=None, function_call=None, functions=None, messages=None, extra_body=None), chat_prompt_template=None), 'MakeSQLCompatible': KernelFunction(plugin_name='nlpToSqlPlugin', description='Convert SQL queries in any ANSI SQL dialect to a Transact-SQL dialect', name='MakeSQLCompatible', is_semantic=True, stream_function=<function KernelFunction.from_semantic_config.<locals>._local_stream_func at 0x0000029AE4DFC820>, parameters=[ParameterView(name='input', description='', default_value='', type_='string', required=False)], delegate_type=<DelegateTypes.ContextSwitchInKernelContextOutTaskKernelContext: 7>, function=<function KernelFunction.from_semantic_config.<locals>._local_func at 0x0000029AE4DFC4C0>, plugins=KernelPluginCollection(plugins={...}), ai_service=AzureChatCompletion(ai_model_id='chat-with-database', client=<openai.lib.azure.AsyncAzureOpenAI object at 0x0000029AE4DCB9D0>, ai_model_type=<OpenAIModelTypes.CHAT: 'chat'>, prompt_tokens=0, completion_tokens=0, total_tokens=0), prompt_execution_settings=AzureChatPromptExecutionSettings(service_id='default', extension_data={'max_tokens': 4000, 'temperature': 0.0, 'top_p': 0.0, 'presence_penalty': 0.0, 'frequency_penalty': 0.0}, ai_model_id=None, frequency_penalty=0.0, logit_bias={}, max_tokens=4000, number_of_responses=1, presence_penalty=0.0, seed=None, stop=None, stream=False, temperature=0.0, top_p=0.0, user=None, response_format=None, tools=None, tool_choice=None, function_call=None, functions=None, messages=None, extra_body=None), chat_prompt_template=None), 'WriteResponse': KernelFunction(plugin_name='nlpToSqlPlugin', description='Write a friendly response given a database query result', name='WriteResponse', is_semantic=True, stream_function=<function KernelFunction.from_semantic_config.<locals>._local_stream_func at 0x0000029AE4DFC790>, parameters=[ParameterView(name='input', description='', default_value='', type_='string', required=False)], delegate_type=<DelegateTypes.ContextSwitchInKernelContextOutTaskKernelContext: 7>, function=<function KernelFunction.from_semantic_config.<locals>._local_func at 0x0000029AE4DFC8B0>, plugins=KernelPluginCollection(plugins={...}), ai_service=AzureChatCompletion(ai_model_id='chat-with-database', client=<openai.lib.azure.AsyncAzureOpenAI object at 0x0000029AE4DCB9D0>, ai_model_type=<OpenAIModelTypes.CHAT: 'chat'>, prompt_tokens=0, completion_tokens=0, total_tokens=0), prompt_execution_settings=AzureChatPromptExecutionSettings(service_id='default', extension_data={'max_tokens': 4000, 'temperature': 0.0, 'top_p': 0.0, 'presence_penalty': 0.0, 'frequency_penalty': 0.0}, ai_model_id=None, frequency_penalty=0.0, logit_bias={}, max_tokens=4000, number_of_responses=1, presence_penalty=0.0, seed=None, stop=None, stream=False, temperature=0.0, top_p=0.0, user=None, response_format=None, tools=None, tool_choice=None, function_call=None, functions=None, messages=None, extra_body=None), chat_prompt_template=None)}), 'QueryDbPlugin': KernelPlugin(name='QueryDbPlugin', description=None, functions={...})}), ai_service=None, prompt_execution_settings=PromptExecutionSettings(service_id=None, extension_data={}), chat_prompt_template=None)})"
      ]
     },
     "execution_count": 12,
     "metadata": {},
     "output_type": "execute_result"
    }
   ],
   "source": [
    "# Set the deployment name to the value of your chat model\n",
    "deployment, api_key, endpoint = sk.azure_openai_settings_from_dot_env()\n",
    "azure_text_service = AzureChatCompletion(\n",
    "    deployment_name=deployment, endpoint=endpoint, api_key=api_key\n",
    ")\n",
    "kernel.add_text_completion_service(\"azure_text_completion\", azure_text_service)\n",
    "\n",
    "# Immport NLP to SQL Plugin\n",
    "plugins_directory = \"plugins\"\n",
    "kernel.import_semantic_plugin_from_directory(plugins_directory, \"nlpToSqlPlugin\")\n",
    "kernel.import_plugin(\n",
    "    plugin.QueryDbPlugin(os.getenv(\"CONNECTION_STRING\")), plugin_name=\"QueryDbPlugin\"\n",
    ")"
   ]
  },
  {
   "cell_type": "code",
   "execution_count": 13,
   "metadata": {},
   "outputs": [],
   "source": [
    "async def create_plan(planner, input):\n",
    "    return await planner.create_plan(goal=input)\n",
    "\n",
    "\n",
    "async def invoke_plan(sequential_plan):\n",
    "    return await sequential_plan.invoke()"
   ]
  },
  {
   "cell_type": "code",
   "execution_count": 14,
   "metadata": {},
   "outputs": [],
   "source": [
    "import semantic_kernel as sk\n",
    "from semantic_kernel.planning.sequential_planner import SequentialPlanner"
   ]
  },
  {
   "cell_type": "code",
   "execution_count": 15,
   "metadata": {},
   "outputs": [],
   "source": [
    "planner = SequentialPlanner(kernel)"
   ]
  },
  {
   "cell_type": "code",
   "execution_count": 16,
   "metadata": {},
   "outputs": [],
   "source": [
    "prompt = \"\"\"Can you list the UserId, ProfileName, Score, Summary, and Recommendation for users whose\n",
    " HelpfulnessNumerator is greater than 15?\"\"\""
   ]
  },
  {
   "cell_type": "code",
   "execution_count": 17,
   "metadata": {},
   "outputs": [],
   "source": [
    "# Create a plan with the NLP input\n",
    "ask = f\"Create a SQL query according to the following request: {prompt} and query the database to get the result.\"\n",
    "\n",
    "plan = await create_plan(planner, ask)\n",
    "\n",
    "# Invoke the plan and get the result\n",
    "result = await invoke_plan(plan)"
   ]
  },
  {
   "cell_type": "code",
   "execution_count": 22,
   "metadata": {},
   "outputs": [
    {
     "data": {
      "text/plain": [
       "\"Response: It appears there was an error with the database query. The system could not find the columns 'value1', 'value2', and 'value3'. Please check the column names and try again.\""
      ]
     },
     "execution_count": 22,
     "metadata": {},
     "output_type": "execute_result"
    }
   ],
   "source": [
    "result.result"
   ]
  },
  {
   "cell_type": "code",
   "execution_count": 19,
   "metadata": {},
   "outputs": [
    {
     "name": "stdout",
     "output_type": "stream",
     "text": [
      "/n\n",
      "User ASK: Can you list the UserId, ProfileName, Score, Summary, and Recommendation for users whose\n",
      " HelpfulnessNumerator is greater than 15?\n",
      "Response: Response: It appears there was an error with the database query. The system could not find the columns 'value1', 'value2', and 'value3'. Please check the column names and try again.\n",
      "/n\n",
      "Step: 0\n",
      "Description: Given a query and a list of possible intents, detect which intent the input matches\n",
      "Function: nlpToSqlPlugin.ConvertNLPToSQL\n",
      "  Output:\n",
      " The provided schema does not contain the necessary fields (UserId, ProfileName, Score, Summary, Recommendation, HelpfulnessNumerator) to write the SQL query for the given objective. Please provide the correct schema.\n",
      "\n",
      "\n",
      "\n",
      "Step: 1\n",
      "Description: Convert SQL queries in any ANSI SQL dialect to a Transact-SQL dialect\n",
      "Function: nlpToSqlPlugin.MakeSQLCompatible\n",
      "  Output:\n",
      " INSERT INTO table_name (column1, column2, column3) VALUES (value1, value2, value3);\n",
      "\n",
      "\n",
      "\n",
      "Step: 2\n",
      "Description: Query a database using a SQL query\n",
      "Function: QueryDbPlugin.query_db\n",
      "  Output:\n",
      " Error: ('42S22', \"[42S22] [Microsoft][ODBC Driver 18 for SQL Server][SQL Server]Invalid column name 'value1'. (207) (SQLExecDirectW); [42S22] [Microsoft][ODBC Driver 18 for SQL Server][SQL Server]Invalid column name 'value2'. (207); [42S22] [Microsoft][ODBC Driver 18 for SQL Server][SQL Server]Invalid column name 'value3'. (207)\")\n",
      "\n",
      "\n",
      "\n",
      "Step: 3\n",
      "Description: Write a friendly response given a database query result\n",
      "Function: nlpToSqlPlugin.WriteResponse\n",
      "  Output:\n",
      " Response: It appears there was an error with the database query. The system could not find the columns 'value1', 'value2', and 'value3'. Please check the column names and try again.\n",
      "\n",
      "\n",
      "\n"
     ]
    }
   ],
   "source": [
    "print(\"/n\")\n",
    "print(f\"User ASK: {prompt}\")\n",
    "print(f\"Response: {result}\")\n",
    "print(\"/n\")\n",
    "\n",
    "# Print each step of the plan and its result\n",
    "for index, step in enumerate(plan._steps):\n",
    "    print(\"Step:\", index)\n",
    "    print(\"Description:\", step.description)\n",
    "    print(\"Function:\", step.plugin_name + \".\" + step._function.name)\n",
    "    if len(step._outputs) > 0:\n",
    "        print(\"  Output:\\n\", str.replace(result[step._outputs[0]], \"\\n\", \"\\n  \"))\n",
    "        print(\"\\n\\n\")"
   ]
  },
  {
   "cell_type": "code",
   "execution_count": 21,
   "metadata": {},
   "outputs": [
    {
     "data": {
      "text/plain": [
       "'RESULT__FINAL_ANSWER'"
      ]
     },
     "execution_count": 21,
     "metadata": {},
     "output_type": "execute_result"
    }
   ],
   "source": [
    "step._outputs[0]"
   ]
  },
  {
   "cell_type": "markdown",
   "metadata": {},
   "source": []
  },
  {
   "cell_type": "code",
   "execution_count": 7,
   "metadata": {},
   "outputs": [],
   "source": [
    "from src.aoai.azure_openai import AzureOpenAIManager\n",
    "from src.prompts import get_intent_prompt"
   ]
  },
  {
   "cell_type": "code",
   "execution_count": 8,
   "metadata": {},
   "outputs": [],
   "source": [
    "prompt_1 = \"\"\"Can you list the UserId, ProfileName, Score, Summary, and Recommendation for users whose\n",
    " HelpfulnessNumerator is greater than 15?\"\"\"\n",
    "\n",
    "prompt_2 = \"\"\"lalalalala\"\"\"\n",
    "\n",
    "prompt_3 = \"\"\"How to start using the tool?\"\"\""
   ]
  },
  {
   "cell_type": "code",
   "execution_count": 17,
   "metadata": {},
   "outputs": [
    {
     "name": "stderr",
     "output_type": "stream",
     "text": [
      "2024-05-01 19:26:47,147 - micro - MainProcess - INFO     Sending request to OpenAI with query: \n",
      "    Based on the chat history and the user's most recent question, determine the intent of the query. The intent should be categorized into one of the following strings:\n",
      "\n",
      "    how_to: Use this category for questions that seek guidance or instructions on how to perform specific tasks.\n",
      "    database: Use this category for questions that request specific data or information from a database.\n",
      "    how_to_database: Use this category for questions that both seek guidance on how to perform specific tasks and request specific data or information from a database.\n",
      "    not_found: Use this category if the intent does not fit the categories above or cannot be clearly determined.\n",
      "    Provide only the identified intent without any additional information.\n",
      "\n",
      "    Take your time to analyze the user's query and the context provided in the chat history to determine the most appropriate intent.\n",
      "\n",
      "    Chat History:\n",
      "    []\n",
      "\n",
      "    User:\n",
      "    How to start using the tool?\n",
      "\n",
      "    Intent Classification Examples:\n",
      "\n",
      "    User question: How do I delete my SIFT project?\n",
      "    Intent: how_to\n",
      "    User question: How do I code and authorize an invoice in Tungsten?\n",
      "    Intent: how_to\n",
      "    User question: How do I create a project in SIFT?\n",
      "    Intent: how_to\n",
      "    User question: Do I need to submit any projects before SIFT locks this month?\n",
      "    Intent: database\n",
      "    User question: I'm waiting for my project to be reviewed. Who has my project?\n",
      "    Intent: database\n",
      "    User question: Why was my project most recently rejected and by whom was it rejected?\n",
      "    Intent: database\n",
      "    User question: How do I find the status of my project in the database?\n",
      "    Intent: how_to_database\n",
      "    Return Intent:\n",
      "     (azure_openai.py:generate_chat_response:183)\n",
      "2024-05-01 19:26:48,087 - micro - MainProcess - INFO     Received response from OpenAI: how_to (azure_openai.py:generate_chat_response:196)\n"
     ]
    }
   ],
   "source": [
    "az_client = AzureOpenAIManager()\n",
    "\n",
    "conversation_history = []\n",
    "\n",
    "prompt_intent = get_intent_prompt(conversation_history, prompt_3)\n",
    "\n",
    "intent = az_client.generate_chat_response(\n",
    "    conversation_history=conversation_history,\n",
    "    query=prompt_intent,\n",
    "    system_message_content=\"You are an AI assistant designed to detect the intent from the user's query.\",\n",
    "    max_tokens=50,\n",
    ")"
   ]
  },
  {
   "cell_type": "code",
   "execution_count": 15,
   "metadata": {},
   "outputs": [],
   "source": [
    "# %pip install azure-search-documents==11.4.0b10"
   ]
  },
  {
   "cell_type": "code",
   "execution_count": 18,
   "metadata": {},
   "outputs": [],
   "source": [
    "from azure.search.documents import SearchClient\n",
    "from azure.core.credentials import AzureKeyCredential\n",
    "from azure.search.documents.models import RawVectorQuery\n",
    "from dotenv import load_dotenv\n",
    "\n",
    "# Load environment variables from .env file\n",
    "load_dotenv()\n",
    "\n",
    "# Set up Azure Cognitive Search credentials\n",
    "service_endpoint = os.getenv(\"AZURE_AI_SEARCH_SERVICE_ENDPOINT\")\n",
    "key = os.getenv(\"AZURE_SEARCH_ADMIN_KEY\")\n",
    "credential = AzureKeyCredential(key)\n",
    "\n",
    "# Define the name of the Azure Search index\n",
    "# This is the index where your data is stored in Azure Search\n",
    "index_name = \"query-dev-index\"\n",
    "\n",
    "# Set up the Azure Search client with the specified index\n",
    "# This prepares the client to interact with the Azure Search service\n",
    "search_client = SearchClient(service_endpoint, index_name, credential=credential)\n",
    "search_query = SearchClient(service_endpoint, index_name, credential=credential)"
   ]
  },
  {
   "cell_type": "code",
   "execution_count": 19,
   "metadata": {},
   "outputs": [],
   "source": [
    "search_query = \"Identify players who played more than 100 games, have an OPS (On-base Plus Slugging) higher than .900, and have less than 10 errors in a season.\"\n",
    "search_vector = az_client.generate_embedding(input_text=search_query)"
   ]
  },
  {
   "cell_type": "code",
   "execution_count": 20,
   "metadata": {},
   "outputs": [
    {
     "name": "stdout",
     "output_type": "stream",
     "text": [
      "Table Name: detroit_tigers_baseball_stats\n",
      "Score: 0.03306011110544205\n",
      "Reranker Score: 2.504136085510254\n",
      "Content: The provided schema is for a table named 'detroit_tigers_baseball_stats', which likely stores statistical data related to the players of the Detroit Tigers, a professional baseball team. The table has eight columns, each representing different characteristics or statistics related to a player.  1. 'name' (nvarchar): This column is used to store the name of the player. As the data type is 'nvarchar', it can contain both text and numbers, allowing for diverse names.  2. 'position' (nvarchar): This field stores the position of a player on the field. The 'nvarchar' data type indicates that this field can also contain alphanumeric characters, allowing for various positions like 'SS' (Short Stop), 'CF' (Center Field), etc.  3. 'Games_Played' (tinyint): This field records the number of games a player has played. The 'tinyint' data type indicates that this number is likely to be relatively small, generally less than 255.  4. 'At_Bats' (smallint): This field represents the number of times a pla\n",
      "--------------------------------------------------\n",
      "Table Name: expanded_detroit_tigers_baseball_stats\n",
      "Score: 0.03306011110544205\n",
      "Reranker Score: 1.7274816036224365\n",
      "Content: The provided schema is for a table named 'detroit_tigers_baseball_stats', which likely stores statistical data related to the players of the Detroit Tigers, a professional baseball team. The table contains eight columns, each representing a different aspect of a player's performance or role in the team.  1. 'name': This field is of data type 'nvarchar', which means it stores non-Unicode character data. It's likely used to store the names of the players.  2. 'position': This 'nvarchar' field probably represents the role or position a player holds within the team (such as pitcher, catcher, infielder, etc).  3. 'Games_Played': This 'tinyint' field likely indicates the number of games a player has participated in.   4. 'At_Bats': The 'At_Bats' column, a 'smallint' data type, likely represents the number of times a player has been at bat.  5. 'Hits': This 'tinyint' field is likely used to record the number of successful hits a player has made.  6. 'Home_Runs': This is another 'tinyint' fiel\n",
      "--------------------------------------------------\n"
     ]
    }
   ],
   "source": [
    "if intent == \"how_to\":\n",
    "    # hybrid retrieval + rerank\n",
    "    r = search_client.search(\n",
    "        search_query,\n",
    "        top=5,\n",
    "        vector_queries=[\n",
    "            RawVectorQuery(vector=search_vector, k=50, fields=\"table_vector\")\n",
    "        ],\n",
    "        query_type=\"semantic\",\n",
    "        semantic_configuration_name=\"query-index-semantic-config\",\n",
    "        query_language=\"en-us\",\n",
    "    )\n",
    "\n",
    "    for doc in r:\n",
    "        content = doc[\"table_content\"].replace(\"\\n\", \" \")[:1000]\n",
    "        table_name = doc[\"table_name\"]\n",
    "        score = doc[\"@search.score\"]\n",
    "        reranker_score = doc[\"@search.reranker_score\"]\n",
    "\n",
    "        print(f\"Table Name: {table_name}\")\n",
    "        print(f\"Score: {score}\")\n",
    "        print(f\"Reranker Score: {reranker_score}\")\n",
    "        print(f\"Content: {content}\")\n",
    "        print(\"-\" * 50)  # prints a separator for readability\n",
    "elif intent == \"database\":\n",
    "    # Handle 'database' intent\n",
    "    print(\"Handling 'database' intent...\")\n",
    "    # Add your code here\n",
    "elif intent == \"how_to_database\":\n",
    "    # Handle 'how_to_database' intent\n",
    "    print(\"Handling 'how_to_database' intent...\")\n",
    "    # Add your code here\n",
    "else:\n",
    "    # Handle 'not_found' intent\n",
    "    print(\"Intent not found. Please try again.\")\n",
    "    # Add your code here"
   ]
  }
 ],
 "metadata": {
  "kernelspec": {
   "display_name": "nlttosql-semantickernel",
   "language": "python",
   "name": "python3"
  },
  "language_info": {
   "codemirror_mode": {
    "name": "ipython",
    "version": 3
   },
   "file_extension": ".py",
   "mimetype": "text/x-python",
   "name": "python",
   "nbconvert_exporter": "python",
   "pygments_lexer": "ipython3",
   "version": "3.9.19"
  }
 },
 "nbformat": 4,
 "nbformat_minor": 2
}
