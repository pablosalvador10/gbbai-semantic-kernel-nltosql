{
 "cells": [
  {
   "cell_type": "code",
   "execution_count": 1,
   "metadata": {},
   "outputs": [
    {
     "name": "stdout",
     "output_type": "stream",
     "text": [
      "Directory changed to C:\\Users\\pablosal\\Desktop\\gbbai-semantic-kernel-nltosql\n"
     ]
    }
   ],
   "source": [
    "import os\n",
    "\n",
    "# Define the target directory (change yours)\n",
    "target_directory = r\"C:\\Users\\pablosal\\Desktop\\gbbai-semantic-kernel-nltosql\"\n",
    "\n",
    "# Check if the directory exists\n",
    "if os.path.exists(target_directory):\n",
    "    # Change the current working directory\n",
    "    os.chdir(target_directory)\n",
    "    print(f\"Directory changed to {os.getcwd()}\")\n",
    "else:\n",
    "    print(f\"Directory {target_directory} does not exist.\")"
   ]
  },
  {
   "cell_type": "code",
   "execution_count": 2,
   "metadata": {},
   "outputs": [],
   "source": [
    "from dotenv import load_dotenv\n",
    "import os\n",
    "import asyncio\n",
    "import semantic_kernel as sk\n",
    "from semantic_kernel.connectors.ai.open_ai import AzureChatCompletion\n",
    "from plugins.QueryDb import queryDb as plugin\n",
    "\n",
    "kernel = sk.Kernel()\n",
    "\n",
    "# Get AOAI settings from .env\n",
    "deployment, api_key, endpoint = sk.azure_openai_settings_from_dot_env()"
   ]
  },
  {
   "cell_type": "code",
   "execution_count": 3,
   "metadata": {},
   "outputs": [
    {
     "data": {
      "text/plain": [
       "KernelPlugin(name='QueryDbPlugin', description=None, functions={'query_db': KernelFunction(plugin_name='QueryDbPlugin', description='Query a database using a SQL query', name='query_db', is_semantic=False, stream_function=<bound method QueryDbPlugin.query_db of <plugins.QueryDb.queryDb.QueryDbPlugin object at 0x0000020E2ABB6FD0>>, parameters=[ParameterView(name='input', description='SQL Query to be executed', default_value='', type_='string', required=False)], delegate_type=<DelegateTypes.InKernelContextOutString: 5>, function=<bound method QueryDbPlugin.query_db of <plugins.QueryDb.queryDb.QueryDbPlugin object at 0x0000020E2ABB6FD0>>, plugins=KernelPluginCollection(plugins={'nlpToSqlPlugin': KernelPlugin(name='nlpToSqlPlugin', description=None, functions={'ConvertNLPToSQL': KernelFunction(plugin_name='nlpToSqlPlugin', description='Write SQL queries given a Natural Language description', name='ConvertNLPToSQL', is_semantic=True, stream_function=<function KernelFunction.from_semantic_config.<locals>._local_stream_func at 0x0000020E2ABA3DC0>, parameters=[ParameterView(name='input', description='', default_value='', type_='string', required=False)], delegate_type=<DelegateTypes.ContextSwitchInKernelContextOutTaskKernelContext: 7>, function=<function KernelFunction.from_semantic_config.<locals>._local_func at 0x0000020E2ABA3EE0>, plugins=KernelPluginCollection(plugins={...}), ai_service=AzureChatCompletion(ai_model_id='chat-with-database', client=<openai.lib.azure.AsyncAzureOpenAI object at 0x0000020E2AB99BE0>, ai_model_type=<OpenAIModelTypes.CHAT: 'chat'>, prompt_tokens=0, completion_tokens=0, total_tokens=0), prompt_execution_settings=AzureChatPromptExecutionSettings(service_id='default', extension_data={'max_tokens': 4000, 'temperature': 0.0, 'top_p': 0.0, 'presence_penalty': 0.0, 'frequency_penalty': 0.0}, ai_model_id=None, frequency_penalty=0.0, logit_bias={}, max_tokens=4000, number_of_responses=1, presence_penalty=0.0, seed=None, stop=None, stream=False, temperature=0.0, top_p=0.0, user=None, response_format=None, tools=None, tool_choice=None, function_call=None, functions=None, messages=None, extra_body=None), chat_prompt_template=None), 'MakeSQLCompatible': KernelFunction(plugin_name='nlpToSqlPlugin', description='Convert SQL queries in any ANSI SQL dialect to a Transact-SQL dialect', name='MakeSQLCompatible', is_semantic=True, stream_function=<function KernelFunction.from_semantic_config.<locals>._local_stream_func at 0x0000020E2A200CA0>, parameters=[ParameterView(name='input', description='', default_value='', type_='string', required=False)], delegate_type=<DelegateTypes.ContextSwitchInKernelContextOutTaskKernelContext: 7>, function=<function KernelFunction.from_semantic_config.<locals>._local_func at 0x0000020E2ABA3E50>, plugins=KernelPluginCollection(plugins={...}), ai_service=AzureChatCompletion(ai_model_id='chat-with-database', client=<openai.lib.azure.AsyncAzureOpenAI object at 0x0000020E2AB99BE0>, ai_model_type=<OpenAIModelTypes.CHAT: 'chat'>, prompt_tokens=0, completion_tokens=0, total_tokens=0), prompt_execution_settings=AzureChatPromptExecutionSettings(service_id='default', extension_data={'max_tokens': 4000, 'temperature': 0.0, 'top_p': 0.0, 'presence_penalty': 0.0, 'frequency_penalty': 0.0}, ai_model_id=None, frequency_penalty=0.0, logit_bias={}, max_tokens=4000, number_of_responses=1, presence_penalty=0.0, seed=None, stop=None, stream=False, temperature=0.0, top_p=0.0, user=None, response_format=None, tools=None, tool_choice=None, function_call=None, functions=None, messages=None, extra_body=None), chat_prompt_template=None), 'WriteResponse': KernelFunction(plugin_name='nlpToSqlPlugin', description='Write a friendly response given a database query result', name='WriteResponse', is_semantic=True, stream_function=<function KernelFunction.from_semantic_config.<locals>._local_stream_func at 0x0000020E2ABBF160>, parameters=[ParameterView(name='input', description='', default_value='', type_='string', required=False)], delegate_type=<DelegateTypes.ContextSwitchInKernelContextOutTaskKernelContext: 7>, function=<function KernelFunction.from_semantic_config.<locals>._local_func at 0x0000020E2A200A60>, plugins=KernelPluginCollection(plugins={...}), ai_service=AzureChatCompletion(ai_model_id='chat-with-database', client=<openai.lib.azure.AsyncAzureOpenAI object at 0x0000020E2AB99BE0>, ai_model_type=<OpenAIModelTypes.CHAT: 'chat'>, prompt_tokens=0, completion_tokens=0, total_tokens=0), prompt_execution_settings=AzureChatPromptExecutionSettings(service_id='default', extension_data={'max_tokens': 4000, 'temperature': 0.0, 'top_p': 0.0, 'presence_penalty': 0.0, 'frequency_penalty': 0.0}, ai_model_id=None, frequency_penalty=0.0, logit_bias={}, max_tokens=4000, number_of_responses=1, presence_penalty=0.0, seed=None, stop=None, stream=False, temperature=0.0, top_p=0.0, user=None, response_format=None, tools=None, tool_choice=None, function_call=None, functions=None, messages=None, extra_body=None), chat_prompt_template=None)}), 'QueryDbPlugin': KernelPlugin(name='QueryDbPlugin', description=None, functions={...})}), ai_service=None, prompt_execution_settings=PromptExecutionSettings(service_id=None, extension_data={}), chat_prompt_template=None)})"
      ]
     },
     "execution_count": 3,
     "metadata": {},
     "output_type": "execute_result"
    }
   ],
   "source": [
    "# Set the deployment name to the value of your chat model\n",
    "deployment, api_key, endpoint = sk.azure_openai_settings_from_dot_env()\n",
    "azure_text_service = AzureChatCompletion(deployment_name=deployment, endpoint=endpoint, api_key=api_key)\n",
    "kernel.add_text_completion_service(\"azure_text_completion\", azure_text_service)\n",
    "\n",
    "# Immport NLP to SQL Plugin\n",
    "plugins_directory = \"plugins\"\n",
    "kernel.import_semantic_plugin_from_directory(plugins_directory, \"nlpToSqlPlugin\")\n",
    "kernel.import_plugin(plugin.QueryDbPlugin(os.getenv(\"CONNECTION_STRING\")), plugin_name=\"QueryDbPlugin\")"
   ]
  },
  {
   "cell_type": "code",
   "execution_count": 4,
   "metadata": {},
   "outputs": [],
   "source": [
    "async def create_plan(planner, input):\n",
    "    return await planner.create_plan(goal=input)\n",
    "\n",
    "async def invoke_plan(sequential_plan):\n",
    "    return await sequential_plan.invoke()"
   ]
  },
  {
   "cell_type": "code",
   "execution_count": 5,
   "metadata": {},
   "outputs": [],
   "source": [
    "import semantic_kernel as sk\n",
    "from semantic_kernel.planning.sequential_planner import SequentialPlanner"
   ]
  },
  {
   "cell_type": "code",
   "execution_count": null,
   "metadata": {},
   "outputs": [],
   "source": [
    "from semantic_kernel.planning."
   ]
  },
  {
   "cell_type": "code",
   "execution_count": 6,
   "metadata": {},
   "outputs": [],
   "source": [
    "planner = SequentialPlanner(kernel)\n"
   ]
  },
  {
   "cell_type": "code",
   "execution_count": 24,
   "metadata": {},
   "outputs": [],
   "source": [
    "nlp_input= '''Can you list the UserId, ProfileName, Score, Summary, and Recommendation for users whose\n",
    " HelpfulnessNumerator divided by HelpfulnessDenominator is greater than 15?'''"
   ]
  },
  {
   "cell_type": "code",
   "execution_count": 25,
   "metadata": {},
   "outputs": [],
   "source": [
    "# Create a plan with the NLP input\n",
    "ask = f\"Create a SQL query according to the following request: {nlp_input} and query the database to get the result.\"\n",
    "\n",
    "plan = await create_plan(planner, ask)\n",
    " \n",
    "# Invoke the plan and get the result\n",
    "result = await invoke_plan(plan)"
   ]
  },
  {
   "cell_type": "code",
   "execution_count": 27,
   "metadata": {},
   "outputs": [
    {
     "data": {
      "text/plain": [
       "KernelContext(memory=NullMemory(), variables=ContextVariables(variables={'input': \"Response: It appears there was an error with the database query. The system could not find the columns 'value1', 'value2', and 'value3'. Please check the column names and try again.\", 'sql_query': 'The provided schema does not contain the necessary fields such as UserId, ProfileName, Score, Summary, Recommendation, HelpfulnessNumerator, and HelpfulnessDenominator to write the SQL query for the given objective. \\n\\nPlease provide the correct schema to proceed.', 'compatible_sql_query': 'INSERT INTO table_name (column1, column2, column3) VALUES (value1, value2, value3);', 'query_result': 'Error: (\\'42S22\\', \"[42S22] [Microsoft][ODBC Driver 18 for SQL Server][SQL Server]Invalid column name \\'value1\\'. (207) (SQLExecDirectW); [42S22] [Microsoft][ODBC Driver 18 for SQL Server][SQL Server]Invalid column name \\'value2\\'. (207); [42S22] [Microsoft][ODBC Driver 18 for SQL Server][SQL Server]Invalid column name \\'value3\\'. (207)\")', 'plan.result': \"Response: It appears there was an error with the database query. The system could not find the columns 'value1', 'value2', and 'value3'. Please check the column names and try again.\", 'result__final_answer': \"Response: It appears there was an error with the database query. The system could not find the columns 'value1', 'value2', and 'value3'. Please check the column names and try again.\"}), plugins=KernelPluginCollection(plugins={}))"
      ]
     },
     "execution_count": 27,
     "metadata": {},
     "output_type": "execute_result"
    }
   ],
   "source": []
  }
 ],
 "metadata": {
  "kernelspec": {
   "display_name": "nlttosql-semantickernel",
   "language": "python",
   "name": "python3"
  },
  "language_info": {
   "codemirror_mode": {
    "name": "ipython",
    "version": 3
   },
   "file_extension": ".py",
   "mimetype": "text/x-python",
   "name": "python",
   "nbconvert_exporter": "python",
   "pygments_lexer": "ipython3",
   "version": "3.9.19"
  }
 },
 "nbformat": 4,
 "nbformat_minor": 2
}
